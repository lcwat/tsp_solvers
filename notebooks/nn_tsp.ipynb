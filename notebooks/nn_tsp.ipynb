{
 "cells": [
  {
   "cell_type": "markdown",
   "id": "a199cf3b",
   "metadata": {},
   "source": [
    "### Nearest Neighbor Traveling Salesman\n",
    "In this script, I create an agent that uses a nearest neighbor heuristic strategy to solve the traveling salesmen problem. According to both computational and behavioral research, this problem can only be solved in a timely manner using heuristic-based solutions. With the nearest neighbor strategy, an instantiated agent must start and return at a given location. When deciding to move to the next location, they evaluate how far each of the remaining alternatives are from their current location. They choose the closest option and repeat the process until they must return to the starting location. This heuristic has been identified as an incredibly simple solution to real world versions of this problem where agents (e.g., animals) are bound by limited perceptive fields and memory. "
   ]
  },
  {
   "cell_type": "code",
   "execution_count": 93,
   "id": "fa485d96",
   "metadata": {},
   "outputs": [],
   "source": [
    "import numpy as np \n",
    "import pandas as pd \n",
    "import matplotlib.pyplot as plt"
   ]
  },
  {
   "cell_type": "code",
   "execution_count": 114,
   "id": "9bd0d07b",
   "metadata": {},
   "outputs": [
    {
     "data": {
      "application/vnd.microsoft.datawrangler.viewer.v0+json": {
       "columns": [
        {
         "name": "index",
         "rawType": "int64",
         "type": "integer"
        },
        {
         "name": "location",
         "rawType": "int64",
         "type": "integer"
        },
        {
         "name": "x",
         "rawType": "float64",
         "type": "float"
        },
        {
         "name": "y",
         "rawType": "float64",
         "type": "float"
        }
       ],
       "ref": "ad516dcb-e062-4d90-b5cd-805987acfbb6",
       "rows": [
        [
         "0",
         "1",
         "0.0",
         "0.0"
        ],
        [
         "1",
         "2",
         "-42.0",
         "17.0"
        ],
        [
         "2",
         "3",
         "43.5",
         "11.0"
        ],
        [
         "3",
         "4",
         "36.5",
         "-17.0"
        ],
        [
         "4",
         "5",
         "50.0",
         "-35.0"
        ],
        [
         "5",
         "6",
         "17.0",
         "-32.5"
        ],
        [
         "6",
         "7",
         "-7.5",
         "-25.5"
        ],
        [
         "7",
         "8",
         "-55.0",
         "-21.5"
        ]
       ],
       "shape": {
        "columns": 3,
        "rows": 8
       }
      },
      "text/html": [
       "<div>\n",
       "<style scoped>\n",
       "    .dataframe tbody tr th:only-of-type {\n",
       "        vertical-align: middle;\n",
       "    }\n",
       "\n",
       "    .dataframe tbody tr th {\n",
       "        vertical-align: top;\n",
       "    }\n",
       "\n",
       "    .dataframe thead th {\n",
       "        text-align: right;\n",
       "    }\n",
       "</style>\n",
       "<table border=\"1\" class=\"dataframe\">\n",
       "  <thead>\n",
       "    <tr style=\"text-align: right;\">\n",
       "      <th></th>\n",
       "      <th>location</th>\n",
       "      <th>x</th>\n",
       "      <th>y</th>\n",
       "    </tr>\n",
       "  </thead>\n",
       "  <tbody>\n",
       "    <tr>\n",
       "      <th>0</th>\n",
       "      <td>1</td>\n",
       "      <td>0.0</td>\n",
       "      <td>0.0</td>\n",
       "    </tr>\n",
       "    <tr>\n",
       "      <th>1</th>\n",
       "      <td>2</td>\n",
       "      <td>-42.0</td>\n",
       "      <td>17.0</td>\n",
       "    </tr>\n",
       "    <tr>\n",
       "      <th>2</th>\n",
       "      <td>3</td>\n",
       "      <td>43.5</td>\n",
       "      <td>11.0</td>\n",
       "    </tr>\n",
       "    <tr>\n",
       "      <th>3</th>\n",
       "      <td>4</td>\n",
       "      <td>36.5</td>\n",
       "      <td>-17.0</td>\n",
       "    </tr>\n",
       "    <tr>\n",
       "      <th>4</th>\n",
       "      <td>5</td>\n",
       "      <td>50.0</td>\n",
       "      <td>-35.0</td>\n",
       "    </tr>\n",
       "    <tr>\n",
       "      <th>5</th>\n",
       "      <td>6</td>\n",
       "      <td>17.0</td>\n",
       "      <td>-32.5</td>\n",
       "    </tr>\n",
       "    <tr>\n",
       "      <th>6</th>\n",
       "      <td>7</td>\n",
       "      <td>-7.5</td>\n",
       "      <td>-25.5</td>\n",
       "    </tr>\n",
       "    <tr>\n",
       "      <th>7</th>\n",
       "      <td>8</td>\n",
       "      <td>-55.0</td>\n",
       "      <td>-21.5</td>\n",
       "    </tr>\n",
       "  </tbody>\n",
       "</table>\n",
       "</div>"
      ],
      "text/plain": [
       "   location     x     y\n",
       "0         1   0.0   0.0\n",
       "1         2 -42.0  17.0\n",
       "2         3  43.5  11.0\n",
       "3         4  36.5 -17.0\n",
       "4         5  50.0 -35.0\n",
       "5         6  17.0 -32.5\n",
       "6         7  -7.5 -25.5\n",
       "7         8 -55.0 -21.5"
      ]
     },
     "execution_count": 114,
     "metadata": {},
     "output_type": "execute_result"
    }
   ],
   "source": [
    "locations_df = pd.read_csv(\"../arrangements/locations_nn_suboptimal.csv\")\n",
    "\n",
    "locations_df"
   ]
  },
  {
   "cell_type": "markdown",
   "id": "22179569",
   "metadata": {},
   "source": [
    "Using a specified starting point, navigate to the closest neighbor until all locations are visited. Then return to the start point. Use the distance matrix to determine what is closest."
   ]
  },
  {
   "cell_type": "code",
   "execution_count": 115,
   "id": "475785e6",
   "metadata": {},
   "outputs": [],
   "source": [
    "# create a distance matrix between all positions that can be accessed\n",
    "def euclid_distance_matrix(df = pd.DataFrame):\n",
    "    # create empty matrix of necessary size\n",
    "    n = len(df)\n",
    "    dist_matrix = np.zeros((n, n), dtype=float)\n",
    "    \n",
    "    # prespecify the location coord list\n",
    "    location_i = []\n",
    "    location_j = []\n",
    "    \n",
    "    # fill matrix by calculating dist between appropriate locations\n",
    "    for i in range(n):\n",
    "        for j in range(n):\n",
    "            location_i = [df.x.iloc[i], df.y.iloc[i]]\n",
    "            location_j = [df.x.iloc[j], df.y.iloc[j]]\n",
    "            \n",
    "            # calculate euclid distance\n",
    "            dist = np.sqrt(\n",
    "                np.pow(location_i[0] - location_j[0], 2) + np.pow(location_i[1] - location_j[1], 2)\n",
    "            )\n",
    "            \n",
    "            dist_matrix[i][j] = dist\n",
    "    \n",
    "    return dist_matrix\n",
    "    \n",
    "dist_matrix = euclid_distance_matrix(locations_df)"
   ]
  },
  {
   "cell_type": "code",
   "execution_count": 96,
   "id": "83397dda",
   "metadata": {},
   "outputs": [],
   "source": [
    "# find the value of the individual (route)\n",
    "def total_distance_individual(individual):\n",
    "    total_dist = 0\n",
    "    \n",
    "    # loop through list of locations and caclulate their distances\n",
    "    for i in range(0, len(individual)):\n",
    "        # get location i subtract 1 to access in matrix\n",
    "        location_1_index = individual[i] - 1\n",
    "        \n",
    "        if(i == len(individual) - 1):\n",
    "            location_2_index = individual[0] - 1\n",
    "            # route back to starting location \n",
    "            total_dist += dist_matrix[location_1_index][individual[0] - 1]\n",
    "        else:\n",
    "            location_2_index = individual[i+1] - 1\n",
    "            # find distance between location and next\n",
    "            total_dist += dist_matrix[location_1_index][location_2_index]\n",
    "    \n",
    "    return total_dist"
   ]
  },
  {
   "cell_type": "markdown",
   "id": "38b6ec07",
   "metadata": {},
   "source": [
    "Find the nearest neighbor that hasn't already been visited. "
   ]
  },
  {
   "cell_type": "code",
   "execution_count": 97,
   "id": "ab1755f1",
   "metadata": {},
   "outputs": [
    {
     "data": {
      "text/plain": [
       "3"
      ]
     },
     "execution_count": 97,
     "metadata": {},
     "output_type": "execute_result"
    }
   ],
   "source": [
    "# using a given location find the nearest neighbor\n",
    "def find_nearest_neighbor(\n",
    "    dist_matrix = np.matrix, location = int, \n",
    "    previously_visited = list\n",
    "    ):\n",
    "    # create new df with distances along with \n",
    "    df = pd.DataFrame({\n",
    "        'location' : [*range(1, len(locations_df)+1)],\n",
    "        'distances' : dist_matrix[location-1]\n",
    "        }, \n",
    "        index=[*range(0, len(locations_df))]\n",
    "    )\n",
    "    \n",
    "    # see if this df should be filtered for previously visited locations\n",
    "    if len(previously_visited) > 0:\n",
    "        # remove previously visited locations\n",
    "        df = df[~df.location.isin(previously_visited)]\n",
    "    \n",
    "    # sort according to distance\n",
    "    df = df[df.distances > 0].sort_values('distances')\n",
    "        \n",
    "    # select next closest neighbor\n",
    "    nn = [*df.location][0]\n",
    "    \n",
    "    return nn\n",
    "\n",
    "find_nearest_neighbor(dist_matrix, 1, [7, 6])"
   ]
  },
  {
   "cell_type": "markdown",
   "id": "fdf26a38",
   "metadata": {},
   "source": [
    "Link together visits to create the path the nn agent will make through the arrangement."
   ]
  },
  {
   "cell_type": "code",
   "execution_count": 98,
   "id": "24a4eb0a",
   "metadata": {},
   "outputs": [],
   "source": [
    "# using a starting point on the arrangement, determine nn path\n",
    "def run_nn(start_location = int):\n",
    "    path = []\n",
    "    \n",
    "    path.append(start_location)\n",
    "    \n",
    "    for i in range(0, len(locations_df)-1):\n",
    "        next_stop = find_nearest_neighbor(dist_matrix, path[-1], path)\n",
    "        \n",
    "        path.append(next_stop)\n",
    "\n",
    "    return path\n",
    "    "
   ]
  },
  {
   "cell_type": "markdown",
   "id": "fa6265f7",
   "metadata": {},
   "source": [
    "##### Run the algorithm"
   ]
  },
  {
   "cell_type": "code",
   "execution_count": null,
   "id": "793abebf",
   "metadata": {},
   "outputs": [
    {
     "name": "stdout",
     "output_type": "stream",
     "text": [
      "[4, 5, 6, 7, 1, 3, 2, 8] 370.4807005432188\n"
     ]
    }
   ],
   "source": [
    "# try one variation from a single starting point\n",
    "nn_path = run_nn(4)\n",
    "\n",
    "distance = total_distance_individual(nn_path)\n",
    "\n",
    "print(nn_path, distance)"
   ]
  },
  {
   "cell_type": "code",
   "execution_count": 120,
   "id": "65acffb7",
   "metadata": {},
   "outputs": [
    {
     "name": "stdout",
     "output_type": "stream",
     "text": [
      "[1, 7, 6, 4, 5, 3, 2, 8] 331.32604474177305\n",
      "[2, 8, 7, 6, 4, 5, 3, 1] 297.8301879749701\n",
      "[3, 4, 5, 6, 7, 1, 2, 8] 326.18556108887384\n",
      "[4, 5, 6, 7, 1, 3, 2, 8] 370.4807005432188\n",
      "[5, 4, 6, 7, 1, 3, 2, 8] 376.54968749458374\n",
      "[6, 4, 5, 3, 1, 7, 8, 2] 330.6344370494023\n",
      "[7, 6, 4, 5, 3, 1, 2, 8] 297.8301879749701\n",
      "[8, 2, 1, 7, 6, 4, 5, 3] 335.59606697419315\n"
     ]
    }
   ],
   "source": [
    "# try all variations\n",
    "paths = []\n",
    "total_distances = []\n",
    "\n",
    "for location in locations_df.location:\n",
    "    path = run_nn(location)\n",
    "    paths.append(path)\n",
    "    dist = total_distance_individual(path)\n",
    "    total_distances.append(dist)\n",
    "    print(path, dist)\n",
    "\n",
    "    "
   ]
  },
  {
   "cell_type": "markdown",
   "id": "3283b154",
   "metadata": {},
   "source": [
    "##### Visualize the results"
   ]
  },
  {
   "cell_type": "code",
   "execution_count": 125,
   "id": "a8a48b23",
   "metadata": {},
   "outputs": [
    {
     "data": {
      "image/png": "[encoded data removed]",
      "text/plain": [
       "<Figure size 650x600 with 1 Axes>"
      ]
     },
     "metadata": {},
     "output_type": "display_data"
    }
   ],
   "source": [
    "starting_location = 5\n",
    "focal_path = paths[starting_location-1]\n",
    "focal_distance = total_distances[starting_location-1]\n",
    "\n",
    "x_shortest = []\n",
    "y_shortest = []\n",
    "for location in focal_path:\n",
    "    x_value = locations_df['x'].iloc[location - 1]\n",
    "    y_value = locations_df['y'].iloc[location - 1]\n",
    "    x_shortest.append(x_value)\n",
    "    y_shortest.append(y_value)\n",
    "    \n",
    "x_shortest.append(x_shortest[0])\n",
    "y_shortest.append(y_shortest[0])\n",
    "\n",
    "fig, ax = plt.subplots()\n",
    "\n",
    "for i in range(len(locations_df.x)):\n",
    "    for j in range(i+1, len(locations_df.x)):\n",
    "        ax.plot([locations_df.x[i], locations_df.x[j]], [locations_df.y[i], locations_df.y[j]], 'k-', alpha=.09, linewidth = 1)\n",
    "\n",
    "ax.plot(x_shortest, y_shortest, '--go', linewidth = 2.5)\n",
    "ax.set_xlim([-60, 60])\n",
    "ax.set_ylim([-60, 60])\n",
    "\n",
    "plt.title(label = \"TSP route using NN\", fontsize = 14, color = 'k')\n",
    "plt.suptitle(\"Total Distance Traveled: \"+str(round(focal_distance, 1)), fontsize = 9)\n",
    "\n",
    "for i, loc in enumerate(focal_path):\n",
    "    ax.annotate(str(loc), (x_shortest[i] + 1.5, y_shortest[i] + 1.25), fontsize = 10)\n",
    "    \n",
    "fig.set_size_inches(6.5, 6)\n",
    "plt.show()"
   ]
  }
 ],
 "metadata": {
  "kernelspec": {
   "display_name": ".venv",
   "language": "python",
   "name": "python3"
  },
  "language_info": {
   "codemirror_mode": {
    "name": "ipython",
    "version": 3
   },
   "file_extension": ".py",
   "mimetype": "text/x-python",
   "name": "python",
   "nbconvert_exporter": "python",
   "pygments_lexer": "ipython3",
   "version": "3.13.2"
  }
 },
 "nbformat": 4,
 "nbformat_minor": 5
}
