{
 "cells": [
  {
   "cell_type": "markdown",
   "id": "a199cf3b",
   "metadata": {},
   "source": [
    "### Nearest Neighbor Traveling Salesman\n",
    "#### In this script, I create an agent that uses a nearest neighbor heuristic strategy to solve the traveling salesmen problem. According to both computational and behavioral research, this problem can only be solved in a timely manner using heuristic-based solutions. With the nearest neighbor strategy, an agent is instantiated that must start and return at a given location. When deciding to move to the next location, they evaluate how far each of the remaining alternatives are from their current location. They choose the closest option and repeat the process until they must return to the starting location. This heuristic has been identified as a possible solution to real world versions of this problem where agents (e.g., animals) are bound by limitations of their perceptive fields and memory. "
   ]
  }
 ],
 "metadata": {
  "language_info": {
   "name": "python"
  }
 },
 "nbformat": 4,
 "nbformat_minor": 5
}
